{
 "cells": [
  {
   "cell_type": "markdown",
   "metadata": {},
   "source": [
    "##### 1.\n",
    "> Using basic statistical properties of the variance, as well as single variable calculus, derive $(5.6)$. In other words, prove that $\\alpha$ given by $(6.5)$ does indeed minimize $\\text{Var}(\\alpha X + (1-\\alpha)Y)$."
   ]
  },
  {
   "cell_type": "markdown",
   "metadata": {},
   "source": [
    "**A:** We will first prove a more general statement: \n",
    "$$ \\text{Var}(aX+bY) = a^2\\text{Var}(X) + b^2\\text{Var}(Y) + 2ab\\text{Cov}(XY) $$\n",
    "Proof:\n",
    "$$\n",
    "\\begin{align*}\n",
    "\\text{Var}(aX+bY)\n",
    "& = \\mathbb{E}[(aX+bY)^2] - (\\mathbb{E}[aX+bY])^2 \\\\\n",
    "& = \\mathbb{E}[(aX)^2 + (bY)^2 + 2abXY] - (\\mathbb{E}[aX] + \\mathbb{E}[bY])^2 \\\\\n",
    "& = a^2\\mathbb{E}[X^2] + b^2\\mathbb{E}[Y^2] + 2ab\\mathbb{E}[XY] - (a\\mathbb{E}[X])^2 - (b\\mathbb{E}[Y])^2 - 2ab\\mathbb{E}[X]\\mathbb{E}[Y] \\\\\n",
    "& = a^2(\\mathbb{E}[X^2] - (\\mathbb{E}[X])^2) + b^2(\\mathbb{E}[Y^2] - (\\mathbb{E}[Y])^2) + 2ab(\\mathbb{E}[XY] - \\mathbb{E}[X]\\mathbb{E}[Y]) \\\\\n",
    "& = a^2\\text{Var}(X) + b^2\\text{Var}(Y) + 2ab\\text{Cov}(XY) \\\\\n",
    "\\end{align*}\n",
    "$$\n",
    "- Note that: $ \\mathbb{E}[XY] - \\mathbb{E}[X]\\mathbb{E}[Y] = \\text{Cov}(XY) $; This can be proven by multiplying terms inside the definition of $\\text{Cov(X, Y)}$ and using the definition of $\\mathbb{E}$. <br>\n",
    "<!-- end list -->\n",
    "We can now apply to our case with: <br>\n",
    "- $ a = \\alpha $\n",
    "- $b = 1 - \\alpha$\n",
    "- $\\text{Var}(X) = \\sigma_X^2$\n",
    "- $\\text{Var}(Y) = \\sigma_Y^2$\n",
    "- $\\text{Cov}(X, Y) = \\sigma_{XY}$\n",
    "\n",
    "$$\n",
    "\\begin{align*}\n",
    "\\text{Var}(\\alpha X + (1 - \\alpha)Y) \n",
    "  &= \\alpha^2\\sigma^2_X + (1-\\alpha)^2\\sigma^2_Y + 2\\alpha(1 - \\alpha)\\sigma_{XY} \\\\\n",
    "  &= \\alpha^2\\sigma^2_X + \\sigma^2_Y - 2\\alpha\\sigma^2_Y + \\alpha^2\\sigma^2_Y + \n",
    "     2\\alpha\\sigma_{XY} - 2\\alpha^2\\sigma_{XY} \n",
    "\\end{align*}\n",
    "$$\n",
    "\n",
    "We can determine if the function is convex (minimum exists) or concave (maximum exists) by finding the second derivative with respect to $\\alpha$:\n",
    "$$\n",
    "\\begin{align*}\n",
    "\\frac{\\partial^2}{\\partial{\\alpha^2}} \n",
    "  &=  2\\sigma^2_X + 2\\sigma^2_Y - 4\\sigma_{XY} \\\\\n",
    "  &=  2(\\sigma^2_X + \\sigma^2_Y - 2\\sigma_{XY}) \\\\\n",
    "  &= 2\\mathrm{Var}(X - Y) \\geq 0\n",
    "\\end{align*}\n",
    "$$\n",
    "\n",
    "There exists a (local?) minimum for $\\text{Var}(\\alpha X + (1 - \\alpha)Y)$, we can find this critical point:\n",
    "$$\n",
    "\\frac{\\partial}{\\partial{\\alpha}} = 2\\alpha\\sigma^2_X - 2\\sigma^2_Y + 2\\alpha\\sigma^2_Y + 2\\sigma_{XY} - 4\\alpha\\sigma_{XY} = 0 $$\n",
    "$$\n",
    "\\begin{align*}\n",
    "& \\Leftrightarrow \\qquad \\alpha\\sigma^2_X + \\alpha\\sigma^2_Y - 2\\alpha\\sigma_{XY} = \\sigma^2_Y - \\sigma_{XY} \\\\\n",
    "& \\Leftrightarrow \\qquad \\alpha = \\frac{\\sigma^2_Y - \\sigma_{XY}}{\\sigma^2_X + \\sigma^2_Y - 2\\sigma_{XY}} \\\\\n",
    "\\end{align*}\n",
    "$$"
   ]
  },
  {
   "cell_type": "markdown",
   "metadata": {},
   "source": [
    "##### 2.\n",
    "> We will now derive the probability that a given observation is part of a bootstrap sample. Suppose that we obtain a bootstrap sample from a set of $n$ observations."
   ]
  },
  {
   "cell_type": "markdown",
   "metadata": {},
   "source": [
    "> (a) What is the probability that the first bootstrap observation is $not$ the $j^{th}$ observation from the original sample? Justify your answer."
   ]
  },
  {
   "cell_type": "markdown",
   "metadata": {},
   "source": [
    "**A:** $P(\\text{not choose } j^{th}) = 1 - P(\\text{choose } j^{th}) = 1 - 1/n$."
   ]
  },
  {
   "cell_type": "markdown",
   "metadata": {},
   "source": [
    "> (b) What is the probability that the second bootstrap observation is $not$ the $j^{th}$ observation from the original sample?"
   ]
  },
  {
   "cell_type": "markdown",
   "metadata": {},
   "source": [
    "**A:** I am not sure what exactly the question is asking.\n",
    "1. If it's asking if the $j^{th}$ observation is _not_ chosen for the second pick and we _don't_ care about results of other positions: Bootstrap samples with replacement, meaning each draw is independent another. \n",
    "$$ P(\\text{not second pick}) = P(\\text{not first pick}) = 1 - 1/n$$\n",
    "2. If it's asking if the $j^{th}$ observation is _not_ chosen for the second pick and we _do_ care that up to the second pick, $j^{th}$ has never been chosen: \n",
    "$$P(\\text{not chosen up to second pick}) = P(\\text{not first pick}) * P(\\text{not second pick}) = (1 - 1/n)^2$$"
   ]
  },
  {
   "cell_type": "markdown",
   "metadata": {},
   "source": [
    "> (c) Argue that the probability that the $j^{th}$ observation is $not$ in the bootstrap sample is $(1 - 1/n)^n$."
   ]
  },
  {
   "cell_type": "markdown",
   "metadata": {},
   "source": [
    "**A:** Similar to the second option of $(b)$, if none of the picks for the bootstrap sample contains $j^{th}$ observations, meaning it is not chosen $n$ times consecutively. The probability of this is $(1 - 1/n)^n$."
   ]
  },
  {
   "cell_type": "markdown",
   "metadata": {},
   "source": [
    "> (d) When $n = 5$, what is the probability that the $j^{th}$ observation is in the bootstrap sample?"
   ]
  },
  {
   "cell_type": "markdown",
   "metadata": {},
   "source": [
    "**A:** $P(\\text{contain } j^{th}) = 1 - P(\\text{contain } j^{th})^C = 1 - (1 - 1/n)^n = 1 - (1 - 1/5)^5$."
   ]
  },
  {
   "cell_type": "markdown",
   "metadata": {},
   "source": [
    "> (e) When $n = 100$, what is the probability that the $j^{th}$ observation is in the bootstrap sample?"
   ]
  },
  {
   "cell_type": "markdown",
   "metadata": {},
   "source": [
    "**A:** Similar to last question: $P(\\text{contain } j^{th}) = 1 - (1 - 1/100)^{100}$."
   ]
  },
  {
   "cell_type": "markdown",
   "metadata": {},
   "source": [
    "> (f) When $n = 10,000$, what is the probability that the $j^{th}$ observation is in the bootstrap sample?"
   ]
  },
  {
   "cell_type": "markdown",
   "metadata": {},
   "source": [
    "**A:** Similar to last question: $P(\\text{contain } j^{th}) = 1 - (1 - 1/10,000)^{10,000}$."
   ]
  },
  {
   "cell_type": "markdown",
   "metadata": {},
   "source": [
    "> (g) Create a plot that displays, for each integer value of n from $1$ to $100,000$, the probability that the $j^{th}$ observation is in the bootstrap sample. Comment on what you observe."
   ]
  },
  {
   "cell_type": "code",
   "execution_count": 2,
   "metadata": {},
   "outputs": [
    {
     "data": {
      "image/png": "[encoded data removed]",
      "text/plain": [
       "<Figure size 640x480 with 1 Axes>"
      ]
     },
     "metadata": {},
     "output_type": "display_data"
    }
   ],
   "source": [
    "import numpy as np\n",
    "from matplotlib.pyplot import subplots\n",
    "\n",
    "Xs = np.arange(1, 100000)\n",
    "ys = 1 - (1 - 1/Xs)**Xs\n",
    "\n",
    "_, ax = subplots()\n",
    "ax.set_xlabel('n')\n",
    "ax.set_ylabel('P(contain jth)')\n",
    "ax.plot(Xs, ys);"
   ]
  },
  {
   "cell_type": "markdown",
   "metadata": {},
   "source": [
    "**A:** As we increase n, the probability converges to a certain value. We can find the exact value by taking the limit as $n$ tends to _infinity_:\n",
    "$$ \\lim_{n\\to \\infty}{1 - (1 - \\frac{x}{n})^n} = 1 - \\lim_{n\\to \\infty}{(1 - \\frac{x}{n})^n} = 1 - e^x $$\n",
    "- Proof for the limit can be found at: https://math.stackexchange.com/questions/358830/about-lim-left1-frac-xn-rightn <br>\n",
    "<!-- end list -->\n",
    "In the case of $x = -1$, the expression converges to $1 - e^{-1} \\approx 0.63 $"
   ]
  },
  {
   "cell_type": "markdown",
   "metadata": {},
   "source": [
    "> (h) We will now investigate numerically the probability that a bootstrap sample of size $n=100$ contains the $j^{th}$ observation. Here $j=4$. We first create an array `store` with values that will subsequently be overwritten using the function `np.empty()`. We then repeatedly create bootstrap samples, and each time we record whether or not the fifth observation is contained in the bootstrap sample."
   ]
  },
  {
   "cell_type": "code",
   "execution_count": 17,
   "metadata": {},
   "outputs": [
    {
     "data": {
      "text/plain": [
       "0.0089"
      ]
     },
     "execution_count": 17,
     "metadata": {},
     "output_type": "execute_result"
    }
   ],
   "source": [
    "# Note: I have adjusted the code for readability\n",
    "rng = np.random.default_rng(10)\n",
    "num_bootstraps = 10000  # number of bootstraps\n",
    "n = 100  # size of each bootstrap\n",
    "\n",
    "store = np.empty(num_bootstraps)\n",
    "for i in range(num_bootstraps):\n",
    "    store[i] = np.sum(rng.choice(n, replace=True) == 4) > 0\n",
    "np.mean(store)"
   ]
  },
  {
   "cell_type": "markdown",
   "metadata": {},
   "source": [
    "> Comment on the results obtained."
   ]
  },
  {
   "cell_type": "markdown",
   "metadata": {},
   "source": [
    "**A:** _Note_: I believe the code provided and the question do not entire match. The given code is checking if the $j^{th}$ observation is chosen at any given pick, which is similar to case $1$ in my answer for part $(b)$. The result of the code is in the range of what we would expect it to be: $1/n = 1/100 = 0.01$. We can adjust the code to increase `num_bootstrap` and the result does approach our expectation at $0.01$. <br><br>\n",
    "The code for case $2$ will be as below; please refer to `numpy`'s documentation for `choice` for more information. <br>\n",
    "In case $2$, we can see that the result, again, follows well to the expectation that we have derived in part $(g)$."
   ]
  },
  {
   "cell_type": "code",
   "execution_count": 29,
   "metadata": {},
   "outputs": [
    {
     "data": {
      "text/plain": [
       "0.6362"
      ]
     },
     "execution_count": 29,
     "metadata": {},
     "output_type": "execute_result"
    }
   ],
   "source": [
    "rng = np.random.default_rng(10)\n",
    "num_bootstraps = 10000  # number of bootstraps\n",
    "n = 100  # size of each bootstrap\n",
    "\n",
    "store = np.empty(num_bootstraps)\n",
    "for i in range(num_bootstraps):\n",
    "    store[i] = np.sum(rng.choice(n, size=n, replace=True) == 4) > 0\n",
    "np.mean(store)"
   ]
  },
  {
   "cell_type": "markdown",
   "metadata": {},
   "source": [
    "##### 3.\n",
    "> We now review $k$-fold cross-validation."
   ]
  },
  {
   "cell_type": "markdown",
   "metadata": {},
   "source": [
    "> (a) Explain how $k$-fold cross-validation is implemented."
   ]
  },
  {
   "cell_type": "markdown",
   "metadata": {},
   "source": [
    "**A:** We first divide the data set into $k$ equal size smaller sets. Use $k-1$ sets to train and validate using the left out set. We repeat this process $k$ times, each of the $k$ set will be used as validation set once."
   ]
  },
  {
   "cell_type": "markdown",
   "metadata": {},
   "source": [
    "> (b) What are teh advantages and disadvantages of $k$-fold cross-validation relative to:\n",
    "> <ol type=\"i\">\n",
    "> <li>The validation set approach?</li>\n",
    "> <li>LOOCV?</li>\n",
    "> </ol>\n"
   ]
  },
  {
   "cell_type": "markdown",
   "metadata": {},
   "source": [
    "**A:**\n",
    "Advantages:\n",
    "- over Validation Set approach:\n",
    "    - less affected by the choice of the division, leading to closer estimate for test error rate (lower variance)\n",
    "    - more data can be used for training when $k > 2$ (less bias)\n",
    "- over LOOCV:\n",
    "    - less expensive computationally when $k < n$\n",
    "<!-- end list -->\n",
    "Disadvantages:\n",
    "- to Validation Set approach:\n",
    "    - more expensive computationally (training and testing $k$ times vs. $1$ time)\n",
    "- to LOOCV:\n",
    "    - higher variance since LOOCV use more observations for training"
   ]
  },
  {
   "cell_type": "markdown",
   "metadata": {},
   "source": [
    "##### 4.\n",
    "> Suppose that we use some statistical learning method to make a prediction for the response $Y$ for a particular value of the predictor $X$. Carefully describe how we might estimate the standard deviation of our prediction."
   ]
  },
  {
   "cell_type": "markdown",
   "metadata": {},
   "source": [
    "**A:** We can use Bootstrap method for validation and find the variance of our predictions. <br>\n",
    "From the original data set $Z$, create $B$ bootstrap datasets ($BD$): $Z^{*1}, Z^{*2}, …, Z^{*B}$. Each $BD$ prediction' validation has certain error rate, respectively: $\\epsilon^{*1}, \\epsilon^{*2}, …, \\epsilon^{*B}$. <br><br>\n",
    "We can now apply the variance formula to estimate our prediction variance:\n",
    "$$ \\text{Var(prediction error)} = \\frac{1}{B-1} \\sum_{i=1}^{B}{(\\epsilon^{*i} - \\bar{\\epsilon})^2} $$"
   ]
  },
  {
   "cell_type": "markdown",
   "metadata": {},
   "source": []
  }
 ],
 "metadata": {
  "kernelspec": {
   "display_name": "E-Search",
   "language": "python",
   "name": "python3"
  },
  "language_info": {
   "codemirror_mode": {
    "name": "ipython",
    "version": 3
   },
   "file_extension": ".py",
   "mimetype": "text/x-python",
   "name": "python",
   "nbconvert_exporter": "python",
   "pygments_lexer": "ipython3",
   "version": "3.11.9"
  }
 },
 "nbformat": 4,
 "nbformat_minor": 2
}
